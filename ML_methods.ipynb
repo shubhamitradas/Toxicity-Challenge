{
  "nbformat": 4,
  "nbformat_minor": 0,
  "metadata": {
    "colab": {
      "name": "Untitled5.ipynb",
      "version": "0.3.2",
      "provenance": []
    },
    "kernelspec": {
      "name": "python3",
      "display_name": "Python 3"
    },
    "accelerator": "GPU"
  },
  "cells": [
    {
      "cell_type": "markdown",
      "metadata": {
        "id": "view-in-github",
        "colab_type": "text"
      },
      "source": [
        "[View in Colaboratory](https://colab.research.google.com/github/shubhamitradas/Toxicity-Challenge/blob/master/ML_methods.ipynb)"
      ]
    },
    {
      "metadata": {
        "id": "AkdQ-_NiguFF",
        "colab_type": "code",
        "colab": {}
      },
      "cell_type": "code",
      "source": [
        "from sklearn.multiclass import OneVsRestClassifier\n",
        "import pandas as pd\n",
        "from nltk.tokenize import RegexpTokenizer\n",
        "import re\n",
        "from sklearn.feature_extraction.text import TfidfVectorizer,CountVectorizer\n",
        "from sklearn.linear_model import LogisticRegression,ElasticNet\n",
        "from sklearn.neighbors import NearestCentroid\n",
        "from sklearn.neighbors import KNeighborsClassifier\n",
        "from sklearn.ensemble import ExtraTreesClassifier,BaggingClassifier\n",
        "\n",
        "train = pd.read_csv('train_toxic.csv')\n",
        "test = pd.read_csv('test_toxic.csv')\n",
        "\n",
        "train[\"comment_text\"].fillna(\"unknown\", inplace=True)\n",
        "test[\"comment_text\"].fillna(\"unknown\", inplace=True)\n",
        "\n",
        "\n",
        "\n",
        "\n",
        "list_sentences_train = train[\"comment_text\"].values\n",
        "list_classes = [\"toxic\", \"severe_toxic\", \"obscene\", \"threat\", \"insult\", \"identity_hate\"]\n",
        "y = train[list_classes].values\n",
        "list_sentences_test = test[\"comment_text\"].values\n",
        "\n",
        "\n",
        "\n",
        "\n",
        "train_text = train['comment_text']\n",
        "test_text = test['comment_text']\n",
        "all_text = pd.concat([train_text, test_text])\n",
        "\n",
        "\n",
        "v = TfidfVectorizer()\n",
        "\n",
        "v.fit(all_text)\n",
        "\n",
        "X_train = v.transform(train_text)\n",
        "X_test = v.transform(test_text)\n",
        "\n",
        "\n",
        "\n"
      ],
      "execution_count": 0,
      "outputs": []
    },
    {
      "metadata": {
        "id": "ri0DlFczu9_N",
        "colab_type": "code",
        "colab": {
          "base_uri": "https://localhost:8080/",
          "height": 136
        },
        "outputId": "f8459876-69c1-4e69-a840-1fc36e14cfa7"
      },
      "cell_type": "code",
      "source": [
        "for label in ['toxic', 'severe_toxic', 'obscene', 'threat', 'insult', 'identity_hate']:\n",
        "    y = train[label]\n",
        "    print(label)\n",
        "    model = BaggingClassifier(LogisticRegression(penalty='l2', C = 2.0))\n",
        "    \n",
        "    model.fit(X_train, y)\n",
        "    test[label] = model.predict_proba(X_test)[:, 1]\n",
        "\n",
        "\n",
        "test.drop('comment_text', axis=1, inplace=True)\n",
        "test.to_csv('BaggingClassifier.csv', index=False)\n",
        "\n",
        "print(\"Done\")"
      ],
      "execution_count": 2,
      "outputs": [
        {
          "output_type": "stream",
          "text": [
            "toxic\n",
            "severe_toxic\n",
            "obscene\n",
            "threat\n",
            "insult\n",
            "identity_hate\n",
            "Done\n"
          ],
          "name": "stdout"
        }
      ]
    },
    {
      "metadata": {
        "id": "qbcil7bp63rg",
        "colab_type": "code",
        "colab": {
          "base_uri": "https://localhost:8080/",
          "height": 204
        },
        "outputId": "1e15ab88-2576-4b5f-d7a2-173db966e73a"
      },
      "cell_type": "code",
      "source": [
        "for label in ['toxic', 'severe_toxic', 'obscene', 'threat', 'insult', 'identity_hate']:\n",
        "    y = train[label]\n",
        "    print(label)\n",
        "    model = OneVSRestClassifier(LogisticRegression(penalty='l2', C = 2.0))\n",
        "    \n",
        "    model.fit(X_train, y)\n",
        "    test[label] = model.predict_proba(X_test)[:, 1]\n",
        "\n",
        "\n",
        "test.drop('comment_text', axis=1, inplace=True)\n",
        "test.to_csv('OneVSRestClassifier.csv', index=False)\n",
        "\n",
        "print(\"Done\")"
      ],
      "execution_count": 3,
      "outputs": [
        {
          "output_type": "execute_result",
          "data": {
            "text/html": [
              "<div>\n",
              "<style scoped>\n",
              "    .dataframe tbody tr th:only-of-type {\n",
              "        vertical-align: middle;\n",
              "    }\n",
              "\n",
              "    .dataframe tbody tr th {\n",
              "        vertical-align: top;\n",
              "    }\n",
              "\n",
              "    .dataframe thead th {\n",
              "        text-align: right;\n",
              "    }\n",
              "</style>\n",
              "<table border=\"1\" class=\"dataframe\">\n",
              "  <thead>\n",
              "    <tr style=\"text-align: right;\">\n",
              "      <th></th>\n",
              "      <th>id</th>\n",
              "      <th>toxic</th>\n",
              "      <th>severe_toxic</th>\n",
              "      <th>obscene</th>\n",
              "      <th>threat</th>\n",
              "      <th>insult</th>\n",
              "      <th>identity_hate</th>\n",
              "    </tr>\n",
              "  </thead>\n",
              "  <tbody>\n",
              "    <tr>\n",
              "      <th>0</th>\n",
              "      <td>00001cee341fdb12</td>\n",
              "      <td>0.999996</td>\n",
              "      <td>0.224701</td>\n",
              "      <td>0.994253</td>\n",
              "      <td>0.084961</td>\n",
              "      <td>0.990884</td>\n",
              "      <td>0.314003</td>\n",
              "    </tr>\n",
              "    <tr>\n",
              "      <th>1</th>\n",
              "      <td>0000247867823ef7</td>\n",
              "      <td>0.042116</td>\n",
              "      <td>0.007823</td>\n",
              "      <td>0.034673</td>\n",
              "      <td>0.001165</td>\n",
              "      <td>0.035587</td>\n",
              "      <td>0.010709</td>\n",
              "    </tr>\n",
              "    <tr>\n",
              "      <th>2</th>\n",
              "      <td>00013b17ad220c46</td>\n",
              "      <td>0.076394</td>\n",
              "      <td>0.015354</td>\n",
              "      <td>0.054648</td>\n",
              "      <td>0.004983</td>\n",
              "      <td>0.064278</td>\n",
              "      <td>0.014195</td>\n",
              "    </tr>\n",
              "    <tr>\n",
              "      <th>3</th>\n",
              "      <td>00017563c3f7919a</td>\n",
              "      <td>0.004613</td>\n",
              "      <td>0.001973</td>\n",
              "      <td>0.009740</td>\n",
              "      <td>0.000701</td>\n",
              "      <td>0.007823</td>\n",
              "      <td>0.002685</td>\n",
              "    </tr>\n",
              "    <tr>\n",
              "      <th>4</th>\n",
              "      <td>00017695ad8997eb</td>\n",
              "      <td>0.074964</td>\n",
              "      <td>0.014667</td>\n",
              "      <td>0.054955</td>\n",
              "      <td>0.004418</td>\n",
              "      <td>0.063076</td>\n",
              "      <td>0.011452</td>\n",
              "    </tr>\n",
              "  </tbody>\n",
              "</table>\n",
              "</div>"
            ],
            "text/plain": [
              "                 id     toxic  severe_toxic   obscene    threat    insult  \\\n",
              "0  00001cee341fdb12  0.999996      0.224701  0.994253  0.084961  0.990884   \n",
              "1  0000247867823ef7  0.042116      0.007823  0.034673  0.001165  0.035587   \n",
              "2  00013b17ad220c46  0.076394      0.015354  0.054648  0.004983  0.064278   \n",
              "3  00017563c3f7919a  0.004613      0.001973  0.009740  0.000701  0.007823   \n",
              "4  00017695ad8997eb  0.074964      0.014667  0.054955  0.004418  0.063076   \n",
              "\n",
              "   identity_hate  \n",
              "0       0.314003  \n",
              "1       0.010709  \n",
              "2       0.014195  \n",
              "3       0.002685  \n",
              "4       0.011452  "
            ]
          },
          "metadata": {
            "tags": []
          },
          "execution_count": 3
        }
      ]
    },
    {
      "metadata": {
        "id": "u5zwRriYCECl",
        "colab_type": "code",
        "colab": {
          "base_uri": "https://localhost:8080/",
          "height": 136
        },
        "outputId": "22a3ddd0-0a06-4fab-ce74-91aad69f0404"
      },
      "cell_type": "code",
      "source": [
        "for label in ['toxic', 'severe_toxic', 'obscene', 'threat', 'insult', 'identity_hate']:\n",
        "    y = train[label]\n",
        "    print(label)\n",
        "    model = LogisticRegression(penalty='l2', C = 2.0)\n",
        "    \n",
        "    model.fit(X_train, y)\n",
        "    test[label] = model.predict_proba(X_test)[:, 1]\n",
        "\n",
        "\n",
        "test.drop('comment_text', axis=1, inplace=True)\n",
        "test.to_csv('LogisticRegression.csv', index=False)\n",
        "\n",
        "print(\"Done\")"
      ],
      "execution_count": 2,
      "outputs": [
        {
          "output_type": "stream",
          "text": [
            "toxic\n",
            "severe_toxic\n",
            "obscene\n",
            "threat\n",
            "insult\n",
            "identity_hate\n",
            "Done\n"
          ],
          "name": "stdout"
        }
      ]
    },
    {
      "metadata": {
        "id": "sCxyaO2PrO-D",
        "colab_type": "code",
        "colab": {
          "base_uri": "https://localhost:8080/",
          "height": 289
        },
        "outputId": "f3f00bd4-ae27-4e5f-f829-30d591ef3b52"
      },
      "cell_type": "code",
      "source": [
        "!ls -lrt"
      ],
      "execution_count": 4,
      "outputs": [
        {
          "output_type": "stream",
          "text": [
            "total 6921304\r\n",
            "drwxr-xr-x 1 root root       4096 Jun  4 04:03 datalab\r\n",
            "-rw-r--r-- 1 root root    6279782 Jun  4 04:03 sample_toxic.csv\r\n",
            "-rw-r--r-- 1 root root   68802655 Jun  4 04:03 train_toxic.csv\r\n",
            "-rw-r--r-- 1 root root   60354593 Jun  4 04:04 test_toxic.csv\r\n",
            "-rw-r--r-- 1 root root 5646239124 Jun  4 04:05 glove.840B.300d.txt\r\n",
            "-rw-r--r-- 1 root root  943625690 Jun  4 04:05 numberbatch-en-17.06.txt\r\n",
            "drwxr-xr-x 4 root root       4096 Jun  4 04:06 nltk_data\r\n",
            "-rw-r--r-- 1 root root   10190103 Jun  4 05:27 0.0455_glove_resnet_postag_concat_0.9861.csv.gz\r\n",
            "-rw-r--r-- 1 root root   22281216 Jun  4 06:18 0.0497_swish_glove_resnet_postag_attn_0.9795.csv\r\n",
            "-rw-r--r-- 1 root root  242300648 Jun  4 06:31 relu.h5\r\n",
            "-rw-r--r-- 1 root root   22389257 Jun  4 06:32 0.0429_swish_glove_resnet_postag_concat_0.9872.csv\r\n",
            "-rw-r--r-- 1 root root   10094159 Jun  4 07:55 BaggingClassifier.csv.gz\r\n",
            "-rw-r--r-- 1 root root    9932107 Jun  4 08:09 OneVSRestClassifier.csv.gz\r\n",
            "-rw-r--r-- 1 root root   23042117 Jun  4 08:29 OneVSRestClassifier.csv\r\n",
            "-rw-r--r-- 1 root root   21839860 Jun  4 08:43 OneVSRestClassifier_countvectorizer.csv\r\n"
          ],
          "name": "stdout"
        }
      ]
    },
    {
      "metadata": {
        "id": "QPm8dSZZuGok",
        "colab_type": "code",
        "colab": {}
      },
      "cell_type": "code",
      "source": [
        "!rm OneVSRestClassifier.csv.gz"
      ],
      "execution_count": 0,
      "outputs": []
    },
    {
      "metadata": {
        "id": "Bf-VO88MrYpX",
        "colab_type": "code",
        "colab": {}
      },
      "cell_type": "code",
      "source": [
        "!gzip LogisticRegression.csv"
      ],
      "execution_count": 0,
      "outputs": []
    },
    {
      "metadata": {
        "id": "p9PZLi_Frg4K",
        "colab_type": "code",
        "colab": {}
      },
      "cell_type": "code",
      "source": [
        "from google.colab import files\n",
        "\n",
        "\n",
        "files.download('LogisticRegression.csv.gz')"
      ],
      "execution_count": 0,
      "outputs": []
    },
    {
      "metadata": {
        "id": "E5B60_-FtyEa",
        "colab_type": "code",
        "colab": {
          "base_uri": "https://localhost:8080/",
          "height": 34
        },
        "outputId": "fdd5f7d9-1b50-44e0-ecd3-b5d798bc5893"
      },
      "cell_type": "code",
      "source": [
        "!date"
      ],
      "execution_count": 16,
      "outputs": [
        {
          "output_type": "stream",
          "text": [
            "Mon Jun  4 07:33:37 UTC 2018\r\n"
          ],
          "name": "stdout"
        }
      ]
    }
  ]
}