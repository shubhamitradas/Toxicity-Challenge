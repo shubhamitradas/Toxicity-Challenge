{
  "nbformat": 4,
  "nbformat_minor": 0,
  "metadata": {
    "colab": {
      "name": "Copy of Copy of initialize.ipynb",
      "version": "0.3.2",
      "provenance": [],
      "collapsed_sections": []
    },
    "kernelspec": {
      "name": "python3",
      "display_name": "Python 3"
    },
    "accelerator": "GPU"
  },
  "cells": [
    {
      "cell_type": "markdown",
      "metadata": {
        "id": "view-in-github",
        "colab_type": "text"
      },
      "source": [
        "[View in Colaboratory](https://colab.research.google.com/github/shubhamitradas/Toxicity-Challenge/blob/master/initialize.ipynb)"
      ]
    },
    {
      "metadata": {
        "id": "EMdFdtb1Adg9",
        "colab_type": "code",
        "colab": {
          "base_uri": "https://localhost:8080/",
          "height": 170
        },
        "outputId": "a2753960-7d4f-4a3d-f0f8-4abeeddbed45"
      },
      "cell_type": "code",
      "source": [
        "!pip install keras\n",
        "!pip install h5py"
      ],
      "execution_count": 3,
      "outputs": [
        {
          "output_type": "stream",
          "text": [
            "Requirement already satisfied: keras in /usr/local/lib/python3.6/dist-packages (2.1.6)\n",
            "Requirement already satisfied: pyyaml in /usr/local/lib/python3.6/dist-packages (from keras) (3.12)\n",
            "Requirement already satisfied: six>=1.9.0 in /usr/local/lib/python3.6/dist-packages (from keras) (1.11.0)\n",
            "Requirement already satisfied: numpy>=1.9.1 in /usr/local/lib/python3.6/dist-packages (from keras) (1.14.3)\n",
            "Requirement already satisfied: scipy>=0.14 in /usr/local/lib/python3.6/dist-packages (from keras) (0.19.1)\n",
            "Requirement already satisfied: h5py in /usr/local/lib/python3.6/dist-packages (from keras) (2.7.1)\n",
            "Requirement already satisfied: h5py in /usr/local/lib/python3.6/dist-packages (2.7.1)\n",
            "Requirement already satisfied: six in /usr/local/lib/python3.6/dist-packages (from h5py) (1.11.0)\n",
            "Requirement already satisfied: numpy>=1.7 in /usr/local/lib/python3.6/dist-packages (from h5py) (1.14.3)\n"
          ],
          "name": "stdout"
        }
      ]
    },
    {
      "metadata": {
        "id": "QIOP77CrZ4ym",
        "colab_type": "code",
        "colab": {
          "base_uri": "https://localhost:8080/",
          "height": 34
        },
        "outputId": "af33a79c-5f3a-4799-a404-d21ba8b2f60a"
      },
      "cell_type": "code",
      "source": [
        "def list_folder(folder_id):\n",
        "    # folder_id: GoogleDriveFile['id']\n",
        "    _q = {'q': \"'{}' in parents and trashed=false\".format(folder_id)}\n",
        "    return drive.ListFile(_q).GetList()\n",
        "\n",
        "  # Install the PyDrive wrapper & import libraries.\n",
        "# This only needs to be done once per notebook.\n",
        "!pip install -U -q PyDrive\n",
        "from pydrive.auth import GoogleAuth\n",
        "from pydrive.drive import GoogleDrive\n",
        "from google.colab import auth\n",
        "from oauth2client.client import GoogleCredentials\n",
        "\n",
        "# Authenticate and create the PyDrive client.\n",
        "# This only needs to be done once per notebook.\n",
        "auth.authenticate_user()\n",
        "gauth = GoogleAuth()\n",
        "gauth.credentials = GoogleCredentials.get_application_default()\n",
        "drive = GoogleDrive(gauth)\n",
        "listed = drive.ListFile({'q': \"title contains 'Toxic' and 'root' in parents\"}).GetList()\n",
        "for file in listed:\n",
        "  print('title {}, id {}'.format(file['title'], file['id']))"
      ],
      "execution_count": 4,
      "outputs": [
        {
          "output_type": "stream",
          "text": [
            "title ToxicData, id 1nQ0-ts1ymyy3FeJar2qkDsP-qkFfMrAL\n"
          ],
          "name": "stdout"
        }
      ]
    },
    {
      "metadata": {
        "id": "0JfZKvDxaC6L",
        "colab_type": "code",
        "colab": {}
      },
      "cell_type": "code",
      "source": [
        "list_folder('1nQ0-ts1ymyy3FeJar2qkDsP-qkFfMrAL')"
      ],
      "execution_count": 0,
      "outputs": []
    },
    {
      "metadata": {
        "id": "eCKHIoNldHWO",
        "colab_type": "code",
        "colab": {}
      },
      "cell_type": "code",
      "source": [
        "downloaded = drive.CreateFile({'id':'1VhpeO1DhzS1WciRQe3_QZX4OqC_0nH6I'}) # replace fileid with Id of file you want to access\n",
        "downloaded.GetContentFile('sample_toxic.csv') "
      ],
      "execution_count": 0,
      "outputs": []
    },
    {
      "metadata": {
        "id": "WMYlZGRUd1o3",
        "colab_type": "code",
        "colab": {}
      },
      "cell_type": "code",
      "source": [
        "downloaded = drive.CreateFile({'id':'1m2KskG1uqeuEepWM0CUFwCIUn0jyrdrd'}) # replace fileid with Id of file you want to access\n",
        "downloaded.GetContentFile('train_toxic.csv') "
      ],
      "execution_count": 0,
      "outputs": []
    },
    {
      "metadata": {
        "id": "nTUe3Gw0gCt6",
        "colab_type": "code",
        "colab": {}
      },
      "cell_type": "code",
      "source": [
        "downloaded = drive.CreateFile({'id':'1cT68qUNYMptRXsNDJRiKN9bfV8VB2Vv9'}) # replace fileid with Id of file you want to access\n",
        "downloaded.GetContentFile('test_toxic.csv') "
      ],
      "execution_count": 0,
      "outputs": []
    },
    {
      "metadata": {
        "id": "gtz2-4XthGh_",
        "colab_type": "code",
        "colab": {}
      },
      "cell_type": "code",
      "source": [
        "downloaded = drive.CreateFile({'id':'1j2XmOFzfmhr-SKFCMrJYRe9jYCQpj6N4'}) # replace fileid with Id of file you want to access\n",
        "downloaded.GetContentFile('glove.840B.300d.txt') "
      ],
      "execution_count": 0,
      "outputs": []
    },
    {
      "metadata": {
        "id": "AvxnN3DJFeVp",
        "colab_type": "code",
        "colab": {}
      },
      "cell_type": "code",
      "source": [
        "downloaded = drive.CreateFile({'id':'14TqF_81Se_W7T6f3sguRK4x96QPhUtk7'}) # replace fileid with Id of file you want to access\n",
        "downloaded.GetContentFile('numberbatch-en-17.06.txt.gz') \n"
      ],
      "execution_count": 0,
      "outputs": []
    },
    {
      "metadata": {
        "id": "StlTXzOnGCf0",
        "colab_type": "code",
        "colab": {}
      },
      "cell_type": "code",
      "source": [
        "!gunzip numberbatch-en-17.06.txt.gz"
      ],
      "execution_count": 0,
      "outputs": []
    },
    {
      "metadata": {
        "id": "yDayvpzHWis9",
        "colab_type": "code",
        "colab": {
          "base_uri": "https://localhost:8080/",
          "height": 136
        },
        "outputId": "c22f2a76-deaa-45cc-8eb1-8fbceacfee0f"
      },
      "cell_type": "code",
      "source": [
        "import nltk\n",
        "nltk.download('punkt')\n",
        "nltk.download('averaged_perceptron_tagger')"
      ],
      "execution_count": 1,
      "outputs": [
        {
          "output_type": "stream",
          "text": [
            "[nltk_data] Downloading package punkt to /content/nltk_data...\n",
            "[nltk_data]   Package punkt is already up-to-date!\n",
            "[nltk_data] Downloading package averaged_perceptron_tagger to\n",
            "[nltk_data]     /content/nltk_data...\n",
            "[nltk_data]   Package averaged_perceptron_tagger is already up-to-\n",
            "[nltk_data]       date!\n"
          ],
          "name": "stdout"
        },
        {
          "output_type": "execute_result",
          "data": {
            "text/plain": [
              "True"
            ]
          },
          "metadata": {
            "tags": []
          },
          "execution_count": 1
        }
      ]
    },
    {
      "metadata": {
        "id": "7AdJhqkOf_ad",
        "colab_type": "code",
        "colab": {
          "base_uri": "https://localhost:8080/",
          "height": 136
        },
        "outputId": "50529f33-ac6e-4059-e9bb-07fd6eea6e88"
      },
      "cell_type": "code",
      "source": [
        "!ls -lrt"
      ],
      "execution_count": 12,
      "outputs": [
        {
          "output_type": "stream",
          "text": [
            "total 6567704\r\n",
            "drwxr-xr-x 1 root root       4096 Jun  1 12:14 datalab\r\n",
            "-rw-r--r-- 1 root root    6279782 Jun  1 12:14 sample_toxic.csv\r\n",
            "-rw-r--r-- 1 root root   68802655 Jun  1 12:14 train_toxic.csv\r\n",
            "-rw-r--r-- 1 root root   60354593 Jun  1 12:14 test_toxic.csv\r\n",
            "-rw-r--r-- 1 root root 5646239124 Jun  1 12:16 glove.840B.300d.txt\r\n",
            "-rw-r--r-- 1 root root  943625690 Jun  1 12:16 numberbatch-en-17.06.txt\r\n"
          ],
          "name": "stdout"
        }
      ]
    }
  ]
}