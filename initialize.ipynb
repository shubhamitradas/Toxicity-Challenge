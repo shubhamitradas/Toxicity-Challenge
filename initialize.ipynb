{
  "nbformat": 4,
  "nbformat_minor": 0,
  "metadata": {
    "colab": {
      "name": "Copy of Copy of initialize.ipynb",
      "version": "0.3.2",
      "provenance": [],
      "collapsed_sections": []
    },
    "kernelspec": {
      "name": "python3",
      "display_name": "Python 3"
    },
    "accelerator": "GPU"
  },
  "cells": [
    {
      "cell_type": "markdown",
      "metadata": {
        "id": "view-in-github",
        "colab_type": "text"
      },
      "source": [
        "[View in Colaboratory](https://colab.research.google.com/github/shubhamitradas/Toxicity-Challenge/blob/master/initialize.ipynb)"
      ]
    },
    {
      "metadata": {
        "id": "EMdFdtb1Adg9",
        "colab_type": "code",
        "colab": {
          "base_uri": "https://localhost:8080/",
          "height": 170
        },
        "outputId": "ffed9037-d4af-4a13-b4b4-998135548dcd"
      },
      "cell_type": "code",
      "source": [
        "!pip install keras\n",
        "!pip install h5py"
      ],
      "execution_count": 1,
      "outputs": [
        {
          "output_type": "stream",
          "text": [
            "Requirement already satisfied: keras in /usr/local/lib/python3.6/dist-packages (2.1.6)\r\n",
            "Requirement already satisfied: six>=1.9.0 in /usr/local/lib/python3.6/dist-packages (from keras) (1.11.0)\r\n",
            "Requirement already satisfied: pyyaml in /usr/local/lib/python3.6/dist-packages (from keras) (3.12)\r\n",
            "Requirement already satisfied: numpy>=1.9.1 in /usr/local/lib/python3.6/dist-packages (from keras) (1.14.3)\r\n",
            "Requirement already satisfied: h5py in /usr/local/lib/python3.6/dist-packages (from keras) (2.7.1)\r\n",
            "Requirement already satisfied: scipy>=0.14 in /usr/local/lib/python3.6/dist-packages (from keras) (0.19.1)\n",
            "Requirement already satisfied: h5py in /usr/local/lib/python3.6/dist-packages (2.7.1)\n",
            "Requirement already satisfied: six in /usr/local/lib/python3.6/dist-packages (from h5py) (1.11.0)\n",
            "Requirement already satisfied: numpy>=1.7 in /usr/local/lib/python3.6/dist-packages (from h5py) (1.14.3)\n"
          ],
          "name": "stdout"
        }
      ]
    },
    {
      "metadata": {
        "id": "QIOP77CrZ4ym",
        "colab_type": "code",
        "colab": {
          "base_uri": "https://localhost:8080/",
          "height": 34
        },
        "outputId": "3f507472-c87c-405e-890e-084981a1acc5"
      },
      "cell_type": "code",
      "source": [
        "def list_folder(folder_id):\n",
        "    # folder_id: GoogleDriveFile['id']\n",
        "    _q = {'q': \"'{}' in parents and trashed=false\".format(folder_id)}\n",
        "    return drive.ListFile(_q).GetList()\n",
        "\n",
        "  # Install the PyDrive wrapper & import libraries.\n",
        "# This only needs to be done once per notebook.\n",
        "!pip install -U -q PyDrive\n",
        "from pydrive.auth import GoogleAuth\n",
        "from pydrive.drive import GoogleDrive\n",
        "from google.colab import auth\n",
        "from oauth2client.client import GoogleCredentials\n",
        "\n",
        "# Authenticate and create the PyDrive client.\n",
        "# This only needs to be done once per notebook.\n",
        "auth.authenticate_user()\n",
        "gauth = GoogleAuth()\n",
        "gauth.credentials = GoogleCredentials.get_application_default()\n",
        "drive = GoogleDrive(gauth)\n",
        "listed = drive.ListFile({'q': \"title contains 'Toxic' and 'root' in parents\"}).GetList()\n",
        "for file in listed:\n",
        "  print('title {}, id {}'.format(file['title'], file['id']))"
      ],
      "execution_count": 2,
      "outputs": [
        {
          "output_type": "stream",
          "text": [
            "title ToxicData, id 1nQ0-ts1ymyy3FeJar2qkDsP-qkFfMrAL\n"
          ],
          "name": "stdout"
        }
      ]
    },
    {
      "metadata": {
        "id": "0JfZKvDxaC6L",
        "colab_type": "code",
        "colab": {}
      },
      "cell_type": "code",
      "source": [
        "list_folder('1nQ0-ts1ymyy3FeJar2qkDsP-qkFfMrAL')"
      ],
      "execution_count": 0,
      "outputs": []
    },
    {
      "metadata": {
        "id": "-3DKbmOeRAJt",
        "colab_type": "code",
        "colab": {
          "base_uri": "https://localhost:8080/",
          "height": 17
        },
        "outputId": "aa7925da-03d2-4123-9987-774e2e10fb5c"
      },
      "cell_type": "code",
      "source": [
        "downloaded = drive.CreateFile({'id':'1uzc2sawJ77gDebgykbp626BoptLlSYwZ'}) # replace fileid with Id of file you want to access\n",
        "downloaded.GetContentFile('wiki.en.vec.gz') \n",
        "\n"
      ],
      "execution_count": 9,
      "outputs": []
    },
    {
      "metadata": {
        "id": "fqVTUc_2RMo_",
        "colab_type": "code",
        "colab": {
          "base_uri": "https://localhost:8080/",
          "height": 17
        },
        "outputId": "7f414e2b-ea9e-441c-acfa-5c78bf891b38"
      },
      "cell_type": "code",
      "source": [
        "!gunzip wiki.en.vec.gz"
      ],
      "execution_count": 10,
      "outputs": []
    },
    {
      "metadata": {
        "id": "eCKHIoNldHWO",
        "colab_type": "code",
        "colab": {
          "base_uri": "https://localhost:8080/",
          "height": 17
        },
        "outputId": "a5ca5788-bfd9-4cdb-ace1-8860bbf201a4"
      },
      "cell_type": "code",
      "source": [
        "downloaded = drive.CreateFile({'id':'1VhpeO1DhzS1WciRQe3_QZX4OqC_0nH6I'}) # replace fileid with Id of file you want to access\n",
        "downloaded.GetContentFile('sample_toxic.csv') "
      ],
      "execution_count": 3,
      "outputs": []
    },
    {
      "metadata": {
        "id": "WMYlZGRUd1o3",
        "colab_type": "code",
        "colab": {
          "base_uri": "https://localhost:8080/",
          "height": 17
        },
        "outputId": "d19df85b-4bbb-45dd-fcbe-7b44f980963c"
      },
      "cell_type": "code",
      "source": [
        "downloaded = drive.CreateFile({'id':'1m2KskG1uqeuEepWM0CUFwCIUn0jyrdrd'}) # replace fileid with Id of file you want to access\n",
        "downloaded.GetContentFile('train_toxic.csv') "
      ],
      "execution_count": 4,
      "outputs": []
    },
    {
      "metadata": {
        "id": "nTUe3Gw0gCt6",
        "colab_type": "code",
        "colab": {
          "base_uri": "https://localhost:8080/",
          "height": 17
        },
        "outputId": "de4c9510-d0e9-4012-a39c-42c662cd9c07"
      },
      "cell_type": "code",
      "source": [
        "downloaded = drive.CreateFile({'id':'1cT68qUNYMptRXsNDJRiKN9bfV8VB2Vv9'}) # replace fileid with Id of file you want to access\n",
        "downloaded.GetContentFile('test_toxic.csv') "
      ],
      "execution_count": 5,
      "outputs": []
    },
    {
      "metadata": {
        "id": "gtz2-4XthGh_",
        "colab_type": "code",
        "colab": {}
      },
      "cell_type": "code",
      "source": [
        "downloaded = drive.CreateFile({'id':'1j2XmOFzfmhr-SKFCMrJYRe9jYCQpj6N4'}) # replace fileid with Id of file you want to access\n",
        "downloaded.GetContentFile('glove.840B.300d.txt') "
      ],
      "execution_count": 0,
      "outputs": []
    },
    {
      "metadata": {
        "id": "AvxnN3DJFeVp",
        "colab_type": "code",
        "colab": {
          "base_uri": "https://localhost:8080/",
          "height": 17
        },
        "outputId": "c57b8fec-1e08-4341-ecc7-13f1d3f6da4d"
      },
      "cell_type": "code",
      "source": [
        "downloaded = drive.CreateFile({'id':'14TqF_81Se_W7T6f3sguRK4x96QPhUtk7'}) # replace fileid with Id of file you want to access\n",
        "downloaded.GetContentFile('numberbatch-en-17.06.txt.gz') \n"
      ],
      "execution_count": 6,
      "outputs": []
    },
    {
      "metadata": {
        "id": "StlTXzOnGCf0",
        "colab_type": "code",
        "colab": {
          "base_uri": "https://localhost:8080/",
          "height": 17
        },
        "outputId": "3c851574-80cb-4adc-dba5-c5f19816651d"
      },
      "cell_type": "code",
      "source": [
        "!gunzip numberbatch-en-17.06.txt.gz"
      ],
      "execution_count": 11,
      "outputs": []
    },
    {
      "metadata": {
        "id": "yDayvpzHWis9",
        "colab_type": "code",
        "colab": {
          "base_uri": "https://localhost:8080/",
          "height": 119
        },
        "outputId": "e0798f7e-7f62-4651-9029-69ed878f5390"
      },
      "cell_type": "code",
      "source": [
        "import nltk\n",
        "nltk.download('punkt')\n",
        "nltk.download('averaged_perceptron_tagger')"
      ],
      "execution_count": 12,
      "outputs": [
        {
          "output_type": "stream",
          "text": [
            "[nltk_data] Downloading package punkt to /content/nltk_data...\n",
            "[nltk_data]   Unzipping tokenizers/punkt.zip.\n",
            "[nltk_data] Downloading package averaged_perceptron_tagger to\n",
            "[nltk_data]     /content/nltk_data...\n",
            "[nltk_data]   Unzipping taggers/averaged_perceptron_tagger.zip.\n"
          ],
          "name": "stdout"
        },
        {
          "output_type": "execute_result",
          "data": {
            "text/plain": [
              "True"
            ]
          },
          "metadata": {
            "tags": []
          },
          "execution_count": 12
        }
      ]
    },
    {
      "metadata": {
        "id": "7AdJhqkOf_ad",
        "colab_type": "code",
        "colab": {
          "base_uri": "https://localhost:8080/",
          "height": 153
        },
        "outputId": "6aa5577a-c563-469c-e48f-ba4f9131f140"
      },
      "cell_type": "code",
      "source": [
        "!ls -lrt"
      ],
      "execution_count": 14,
      "outputs": [
        {
          "output_type": "stream",
          "text": [
            "total 7496416\r\n",
            "drwxr-xr-x 1 root root       4096 Jun  5 04:44 datalab\r\n",
            "-rw-r--r-- 1 root root    6279782 Jun  5 04:44 sample_toxic.csv\r\n",
            "-rw-r--r-- 1 root root   68802655 Jun  5 04:45 train_toxic.csv\r\n",
            "-rw-r--r-- 1 root root   60354593 Jun  5 04:45 test_toxic.csv\r\n",
            "-rw-r--r-- 1 root root  943625690 Jun  5 04:45 numberbatch-en-17.06.txt\r\n",
            "-rw-r--r-- 1 root root 6597238061 Jun  5 04:47 wiki.en.vec\r\n",
            "drwxr-xr-x 4 root root       4096 Jun  5 04:48 nltk_data\r\n"
          ],
          "name": "stdout"
        }
      ]
    }
  ]
}